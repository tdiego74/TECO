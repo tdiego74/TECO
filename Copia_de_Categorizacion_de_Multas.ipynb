{
  "nbformat": 4,
  "nbformat_minor": 0,
  "metadata": {
    "colab": {
      "provenance": [],
      "authorship_tag": "ABX9TyOQb6Z09zbf3YtQKwNlvZ1Q",
      "include_colab_link": true
    },
    "kernelspec": {
      "name": "python3",
      "display_name": "Python 3"
    },
    "language_info": {
      "name": "python"
    }
  },
  "cells": [
    {
      "cell_type": "markdown",
      "metadata": {
        "id": "view-in-github",
        "colab_type": "text"
      },
      "source": [
        "<a href=\"https://colab.research.google.com/github/tdiego74/TECO/blob/main/Copia_de_Categorizacion_de_Multas.ipynb\" target=\"_parent\"><img src=\"https://colab.research.google.com/assets/colab-badge.svg\" alt=\"Open In Colab\"/></a>"
      ]
    },
    {
      "cell_type": "code",
      "source": [
        "import pandas as pd\n",
        "import nltk\n",
        "from collections import defaultdict\n",
        "\n",
        "# Descargar recursos necesarios de nltk\n",
        "nltk.download('punkt')\n",
        "\n",
        "# Ruta al archivo en Colab\n",
        "file_path = 'https://raw.githubusercontent.com/tdiego74/TECO/main/motivos_multas.csv'\n",
        "\n",
        "# Intentar cargar el archivo con codificación 'latin1' y manejar errores en las líneas\n",
        "df = pd.read_csv(file_path, encoding='latin1', on_bad_lines='skip')\n",
        "\n",
        "# Palabras clave y categorías predefinidas (usar minusculas en las palabras entre los corchetes)\n",
        "palabras_clave_categorias = {\n",
        "    \"Semáforo\": [\"luces de semaforo\", \"luz de semaforo\", \"semáforo\", \"semaforo\", \"luz roja\"],\n",
        "    \"Alcoholemia\": [\"alcoholemia\", \"alcohol\"],\n",
        "    \"Exceso de Velocidad\": [\"exceso\", \"velocidad\", \"veloc.\"],\n",
        "    \"No Uso de Cinturón de Seguridad\": [\"cinturon\", \"cinturón\", \"cinturon de seguridad\", \"cinturón de seguridad\", \"correajes\", \"correajes de seguridad\"],\n",
        "    \"No Respeto de Señales de Tránsito\": [\"señales\", \"giro\", \"girar\", \"carril\", \"bocacalle\", \"contramano\", \"sentido contrario\"],\n",
        "    \"Estacionamiento Prohibido\": [\"estac.\", \"estacionar\", \"lugar prohibido\", \"reservado\", \"estacionamiento\", \"ticket\", \"doble fila\", \"triple fila\", \"ochava\", \"garage\"],\n",
        "    \"Uso Indebido del Teléfono\": [\"telefonicos\", \"telefono\", \"celular\", \"mensaje de texto\", \"redactando\", \"enviando\", \"comunicacion\", \"comunicación\"],\n",
        "    \"Evadir cobro de Peaje\": [\"peaje\"],\n",
        "    \"Falta de Documentación\": [\"cedula\", \"vencida\", \"placas\", \"chapa\", \"patente\", \"vtv\", \"itv\", \"documentacion\", \"revisión técnica\", \"licencia\", \"documentación\", \"verificacion tecnica\"],\n",
        "    \"Uso Incorrecto de Luces\": [\"luces\", \"uso de luces\", \"freno\", \"dirección\", \"retroceso\", \"niebla\", \"emergencia\", \"baja\", \"alta\", \"sucias\", \"encendidas\", \"apagadas\"],\n",
        "    \"Obstrucción de Senda Peatonal\": [\"senda\", \"peatonal\", \"obstruir\", \"obstruccion\", \"circulación\", \"obstaculizar\"],\n",
        "    \"Carga y Descarga Indebida\": [\"carga\", \"descarga\", \"fuera de hora\", \"hora/lugar prohibido\"],\n",
        "    \"Otras Infracciones\": [\"maniobra peligrosa\", \"conducir peligroso\", \"no detenerse\"]\n",
        "}\n",
        "\n",
        "# Definir la prioridad de las categorías\n",
        "prioridad_categorias = [\n",
        "    \"Alcoholemia\",\n",
        "    \"Semáforo\",\n",
        "    \"Exceso de Velocidad\",\n",
        "    \"No Uso de Cinturón de Seguridad\",\n",
        "    \"Estacionamiento Prohibido\",\n",
        "    \"No Respeto de Señales de Tránsito\",\n",
        "    \"Uso Indebido del Teléfono\",\n",
        "    \"Evadir cobro de Peaje\",\n",
        "    \"Falta de Documentación\",\n",
        "    \"Uso Incorrecto de Luces\",\n",
        "    \"Obstrucción de Senda Peatonal\",\n",
        "    \"Carga y Descarga Indebida\",\n",
        "    \"Otras Infracciones\"\n",
        "]\n",
        "\n",
        "# Función para asignar categoría y subcategoría con prioridad\n",
        "def asignar_categoria(motivo):\n",
        "    motivo_lower = motivo.lower()\n",
        "    categorias_encontradas = set()\n",
        "\n",
        "    for categoria, palabras_clave in palabras_clave_categorias.items():\n",
        "        for palabra in palabras_clave:\n",
        "            if palabra in motivo_lower:\n",
        "                categorias_encontradas.add(categoria)\n",
        "                break\n",
        "\n",
        "    if categorias_encontradas:\n",
        "        # Encontrar la categoría de mayor prioridad\n",
        "        categoria_asignada = min(categorias_encontradas, key=lambda x: prioridad_categorias.index(x))\n",
        "        subcategoria_asignada = next((palabra for palabra in palabras_clave_categorias[categoria_asignada] if palabra in motivo_lower), \"\")\n",
        "    else:\n",
        "        categoria_asignada = \"Otras\"\n",
        "        subcategoria_asignada = \"\"\n",
        "\n",
        "    return pd.Series([categoria_asignada, subcategoria_asignada])\n",
        "\n",
        "# Aplicar la función a la columna de motivos\n",
        "df[['Categoría', 'Subcategoría']] = df['Motivo'].apply(asignar_categoria)\n",
        "\n",
        "# Identificar motivos sin categoría asignada y sugerir nuevas categorías\n",
        "nuevos_motivos = df[df['Categoría'] == \"Otras\"]['Motivo'].unique()\n",
        "nuevas_categorias_sugeridas = defaultdict(list)\n",
        "\n",
        "for motivo in nuevos_motivos:\n",
        "    motivo_lower = motivo.lower()\n",
        "    for palabra in motivo_lower.split():\n",
        "        nuevas_categorias_sugeridas[palabra].append(motivo)\n",
        "\n",
        "# Guardar el resultado en un nuevo archivo CSV\n",
        "df.to_csv(\"/content/motivos_multas_categorizados.csv\", index=False, encoding='utf-8-sig')\n",
        "\n",
        "# Guardar nuevas categorías sugeridas en un archivo CSV\n",
        "nuevas_categorias_df = pd.DataFrame.from_dict(nuevas_categorias_sugeridas, orient='index').transpose()\n",
        "nuevas_categorias_df.to_csv(\"/content/nuevas_categorias_sugeridas.csv\", index=False, encoding='utf-8-sig')\n",
        "\n",
        "print(\"Categorías asignadas y guardadas en 'motivos_multas_categorizados.csv'\")\n",
        "print(\"Nuevas categorías sugeridas guardadas en 'nuevas_categorias_sugeridas.csv'\")\n"
      ],
      "metadata": {
        "colab": {
          "base_uri": "https://localhost:8080/"
        },
        "id": "sFlwAJBSDuCu",
        "outputId": "5df404c4-b049-4d0a-cfbf-21cb2c329bd2"
      },
      "execution_count": null,
      "outputs": [
        {
          "output_type": "stream",
          "name": "stderr",
          "text": [
            "[nltk_data] Downloading package punkt to /root/nltk_data...\n",
            "[nltk_data]   Package punkt is already up-to-date!\n"
          ]
        },
        {
          "output_type": "stream",
          "name": "stdout",
          "text": [
            "Categorías asignadas y guardadas en 'motivos_multas_categorizados.csv'\n",
            "Nuevas categorías sugeridas guardadas en 'nuevas_categorias_sugeridas.csv'\n"
          ]
        }
      ]
    }
  ]
}