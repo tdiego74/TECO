{
  "nbformat": 4,
  "nbformat_minor": 0,
  "metadata": {
    "colab": {
      "provenance": [],
      "toc_visible": true,
      "authorship_tag": "ABX9TyNGZTSt4r5My7TECpo+Pa7n",
      "include_colab_link": true
    },
    "kernelspec": {
      "name": "python3",
      "display_name": "Python 3"
    },
    "language_info": {
      "name": "python"
    }
  },
  "cells": [
    {
      "cell_type": "markdown",
      "metadata": {
        "id": "view-in-github",
        "colab_type": "text"
      },
      "source": [
        "<a href=\"https://colab.research.google.com/github/tdiego74/TECO/blob/main/Categorizacion%20de%20Multas.ipynb\" target=\"_parent\"><img src=\"https://colab.research.google.com/assets/colab-badge.svg\" alt=\"Open In Colab\"/></a>"
      ]
    },
    {
      "cell_type": "code",
      "execution_count": null,
      "metadata": {
        "id": "bs4Je0nC-A-y"
      },
      "outputs": [],
      "source": [
        "import pandas as pd\n",
        "import nltk\n",
        "from nltk.tokenize import word_tokenize\n",
        "from collections import defaultdict\n",
        "\n",
        "# Descargar recursos necesarios de nltk\n",
        "nltk.download('punkt')\n",
        "\n",
        "# Ruta al archivo en Colab\n",
        "file_path = '/content/motivos_multas.csv'\n",
        "\n",
        "# Intentar cargar el archivo con codificación 'latin1' y manejar errores en las líneas\n",
        "df = pd.read_csv(file_path, encoding='latin1', on_bad_lines='skip')\n",
        "\n",
        "# Palabras clave y categorías predefinidas (ampliadas con los nuevos motivos)\n",
        "palabras_clave_categorias = {\n",
        "    \"Semaforo\": [\"luces de semaforo\", \"luz de semaforo\", \"semaforo\", \"luz roja\"],\n",
        "    \"Exceso de Velocidad\": [\"exceso\", \"velocidad\"],\n",
        "    \"No Uso de Cinturón de Seguridad\": [\"cinturon\", \"seguridad\", \"correajes\", \"correajes de seguridad\"],\n",
        "    \"No Respeto de Señales de Tránsito\": [\"señales\", \"girar\", \"carril\", \"bocacalle\", \"contramano\", \"sentido contrario\"],\n",
        "    \"Estacionamiento Prohibido\": [\"Estac.\", \"estac.\", \"estacionar\", \"lugar prohibido\", \"reservado\", \"estacionamiento\", \"ticket\", \"doble fila\", \"triple fila\", \"ochava\"],\n",
        "    \"Uso Indebido del Teléfono\": [\"telefonicos\", \"telefono\", \"celular\", \"mensaje de texto\", \"redactando\", \"enviando\"],\n",
        "    \"Falta de Documentación\": [\"cedula vencida\", \"documentacion\", \"revisión técnica\", \"licencia\", \"documentación\", \"revision\"],\n",
        "    \"Uso Incorrecto de Luces\": [\"luces\", \"freno\", \"dirección\", \"retroceso\", \"niebla\", \"emergencia\", \"baja\", \"alta\", \"sucias\", \"encendidas\", \"apagadas\"],\n",
        "    \"Obstrucción de Tránsito\": [\"senda\", \"peatonal\", \"obstruir\", \"obstruccion\", \"circulación\", \"obstaculizar\"],\n",
        "    \"Carga y Descarga Indebida\": [\"carga\", \"descarga\", \"fuera de hora\", \"hora/lugar prohibido\"],\n",
        "    \"Otras Infracciones\": [\"maniobra peligrosa\", \"conducir peligroso\", \"no detenerse\", \"uso de luces\"]\n",
        "}\n",
        "\n",
        "# Definir la prioridad de las categorías\n",
        "prioridad_categorias = [\n",
        "    \"Semaforo\"\n",
        "    \"Exceso de Velocidad\",\n",
        "    \"No Uso de Cinturón de Seguridad\",\n",
        "    \"No Respeto de Señales de Tránsito\",\n",
        "    \"Estacionamiento Prohibido\",\n",
        "    \"Uso Indebido del Teléfono\",\n",
        "    \"Falta de Documentación\",\n",
        "    \"Uso Incorrecto de Luces\",\n",
        "    \"Obstrucción de Tránsito\",\n",
        "    \"Carga y Descarga Indebida\",\n",
        "    \"Otras Infracciones\"\n",
        "]\n",
        "\n",
        "# Función para asignar categoría y subcategoría con prioridad\n",
        "def asignar_categoria(motivo):\n",
        "    motivo_tokens = word_tokenize(motivo.lower())\n",
        "    categorias_encontradas = set()\n",
        "\n",
        "    for categoria, palabras_clave in palabras_clave_categorias.items():\n",
        "        if any(palabra in motivo_tokens for palabra in palabras_clave):\n",
        "            categorias_encontradas.add(categoria)\n",
        "\n",
        "    if categorias_encontradas:\n",
        "        # Encontrar la categoría de mayor prioridad\n",
        "        categoria_asignada = min(categorias_encontradas, key=lambda x: prioridad_categorias.index(x))\n",
        "        subcategoria_asignada = next((palabra for palabra in palabras_clave_categorias[categoria_asignada] if palabra in motivo_tokens), \"\")\n",
        "    else:\n",
        "        categoria_asignada = \"Otras\"\n",
        "        subcategoria_asignada = \"\"\n",
        "\n",
        "    return pd.Series([categoria_asignada, subcategoria_asignada])\n",
        "\n",
        "# Aplicar la función a la columna de motivos\n",
        "df[['Categoría', 'Subcategoría']] = df['Motivo'].apply(asignar_categoria)\n",
        "\n",
        "# Identificar motivos sin categoría asignada y sugerir nuevas categorías\n",
        "nuevos_motivos = df[df['Categoría'] == \"Otras\"]['Motivo'].unique()\n",
        "nuevas_categorias_sugeridas = defaultdict(list)\n",
        "\n",
        "for motivo in nuevos_motivos:\n",
        "    motivo_tokens = word_tokenize(motivo.lower())\n",
        "    for token in motivo_tokens:\n",
        "        nuevas_categorias_sugeridas[token].append(motivo)\n",
        "\n",
        "# Guardar el resultado en un nuevo archivo CSV\n",
        "df.to_csv(\"/content/motivos_multas_categorizados.csv\", index=False, encoding='utf-8-sig')\n",
        "\n",
        "# Guardar nuevas categorías sugeridas en un archivo CSV\n",
        "nuevas_categorias_df = pd.DataFrame.from_dict(nuevas_categorias_sugeridas, orient='index').transpose()\n",
        "nuevas_categorias_df.to_csv(\"/content/nuevas_categorias_sugeridas.csv\", index=False, encoding='utf-8-sig')\n",
        "\n",
        "print(\"Categorías asignadas y guardadas en 'motivos_multas_categorizados.csv'\")\n",
        "print(\"Nuevas categorías sugeridas guardadas en 'nuevas_categorias_sugeridas.csv'\")"
      ]
    }
  ]
}