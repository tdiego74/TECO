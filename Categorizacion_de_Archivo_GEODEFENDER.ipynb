{
  "nbformat": 4,
  "nbformat_minor": 0,
  "metadata": {
    "colab": {
      "provenance": [],
      "authorship_tag": "ABX9TyMOMxtvr2aWZ1CJWiEVe6Im",
      "include_colab_link": true
    },
    "kernelspec": {
      "name": "python3",
      "display_name": "Python 3"
    },
    "language_info": {
      "name": "python"
    }
  },
  "cells": [
    {
      "cell_type": "markdown",
      "metadata": {
        "id": "view-in-github",
        "colab_type": "text"
      },
      "source": [
        "<a href=\"https://colab.research.google.com/github/tdiego74/TECO/blob/main/Categorizacion_de_Archivo_GEODEFENDER.ipynb\" target=\"_parent\"><img src=\"https://colab.research.google.com/assets/colab-badge.svg\" alt=\"Open In Colab\"/></a>"
      ]
    },
    {
      "cell_type": "code",
      "execution_count": null,
      "metadata": {
        "colab": {
          "base_uri": "https://localhost:8080/"
        },
        "id": "tbtJzjqBWip5",
        "outputId": "03b8a635-9548-46b5-838b-4eae953ff260"
      },
      "outputs": [
        {
          "output_type": "stream",
          "name": "stdout",
          "text": [
            "Drive already mounted at /content/drive; to attempt to forcibly remount, call drive.mount(\"/content/drive\", force_remount=True).\n",
            "Archivo combinado guardado como: GEODEFENDER_categorizado.xlsx\n"
          ]
        }
      ],
      "source": [
        "import pandas as pd\n",
        "import re\n",
        "\n",
        "# Función para eliminar espacios dobles, convertir a minúsculas y convertir números a texto\n",
        "def clean_spaces_and_convert_numbers(text):\n",
        "    if isinstance(text, str):\n",
        "        # Eliminar espacios dobles y convertir a minúsculas\n",
        "        cleaned_text = re.sub(' +', ' ', text).strip().lower()\n",
        "    else:\n",
        "        # Convertir números a texto\n",
        "        cleaned_text = str(text)\n",
        "    return cleaned_text\n",
        "\n",
        "# Cargar los archivos de Excel\n",
        "file_a = 'GEODEFENDER.xlsx'  # Reemplazar con la ruta del archivo A\n",
        "file_b = 'Motivos_Categorias.xlsx'  # Reemplazar con la ruta del archivo B\n",
        "\n",
        "# Leer los archivos de Excel en DataFrames de pandas\n",
        "df_a = pd.read_excel(file_a, engine='openpyxl')\n",
        "df_b = pd.read_excel(file_b, engine='openpyxl')\n",
        "\n",
        "# Eliminar espacios al principio, al final y espacios dobles en las columnas 'M01_motivo' y 'Motivo', y convertir números a texto\n",
        "df_a['M01_motivo'] = df_a['M01_motivo'].apply(clean_spaces_and_convert_numbers)\n",
        "df_b['Motivo'] = df_b['Motivo'].apply(clean_spaces_and_convert_numbers)\n",
        "\n",
        "# Unir los dataframes en las columnas 'M01_motivo' y 'Motivo' con un left join\n",
        "df_combined = pd.merge(df_a, df_b[['Motivo', 'Categoria']], left_on='M01_motivo', right_on='Motivo', how='left')\n",
        "\n",
        "# Eliminar la columna duplicada 'Motivo' después del merge\n",
        "df_combined.drop(columns=['Motivo'], inplace=True)\n",
        "\n",
        "# Guardar el resultado en un nuevo archivo de Excel\n",
        "output_file = 'GEODEFENDER_categorizado.xlsx'  # Reemplazar con la ruta del archivo de salida\n",
        "df_combined.to_excel(output_file, index=False, engine='openpyxl')\n",
        "\n",
        "print(\"Archivo combinado guardado como:\", output_file)"
      ]
    }
  ]
}